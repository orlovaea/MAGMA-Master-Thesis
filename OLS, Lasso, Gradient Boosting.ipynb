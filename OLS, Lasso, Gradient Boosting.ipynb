{
 "cells": [
  {
   "cell_type": "code",
   "execution_count": null,
   "id": "72dfc5e2",
   "metadata": {},
   "outputs": [],
   "source": [
    "import pandas as pd\n",
    "import numpy as np\n",
    "from sklearn.preprocessing import StandardScaler\n",
    "from sklearn.linear_model import LinearRegression, LassoCV\n",
    "from sklearn.metrics import r2_score\n",
    "from sklearn.ensemble import GradientBoostingRegressor\n",
    "from sklearn.model_selection import train_test_split\n",
    "import statsmodels.api as sm\n",
    "from statsmodels.iolib.summary2 import summary_col"
   ]
  },
  {
   "cell_type": "code",
   "execution_count": null,
   "id": "2a090716",
   "metadata": {},
   "outputs": [],
   "source": [
    "df1 = pd.read_excel('data_word_dummies.xlsx')"
   ]
  },
  {
   "cell_type": "code",
   "execution_count": null,
   "id": "35e9f57b",
   "metadata": {},
   "outputs": [],
   "source": [
    "df2 = pd.read_excel('data_themes.xlsx')"
   ]
  },
  {
   "cell_type": "code",
   "execution_count": null,
   "id": "f60a2d82",
   "metadata": {},
   "outputs": [],
   "source": [
    "df3 = pd.read_excel('data_pca.xlsx')"
   ]
  },
  {
   "cell_type": "code",
   "execution_count": null,
   "id": "2eb89ae9",
   "metadata": {},
   "outputs": [],
   "source": [
    "df1['log_est'] = np.log1p(df1['est_max'])\n",
    "df2['log_est'] = np.log1p(df2['est_max'])\n",
    "df3['log_est'] = np.log1p(df3['est_max'])"
   ]
  },
  {
   "cell_type": "code",
   "execution_count": null,
   "id": "540960cc",
   "metadata": {},
   "outputs": [],
   "source": [
    "text_features = [col for col in df1.columns if col.startswith('has_')]\n",
    "X_struct = df1[['log_est', 'year', 'auction_house', 'online']]\n",
    "y = df1['log_realised_rmb']"
   ]
  },
  {
   "cell_type": "code",
   "execution_count": null,
   "id": "37ff909b",
   "metadata": {},
   "outputs": [],
   "source": [
    "text_features = [col for col in text_features if col not in ['has_钤印', 'has_印文']]"
   ]
  },
  {
   "cell_type": "code",
   "execution_count": null,
   "id": "3046c952",
   "metadata": {},
   "outputs": [],
   "source": [
    "df_model = df1.dropna(subset=['log_realised_rmb', 'log_est', 'auction_house', 'year', 'online', 'desc_len'])"
   ]
  },
  {
   "cell_type": "code",
   "execution_count": null,
   "id": "da080049",
   "metadata": {},
   "outputs": [],
   "source": [
    "# Target\n",
    "y = df_model['log_realised_rmb']\n",
    "\n",
    "# Model 1\n",
    "X1 = df_model[['log_est']]\n",
    "X1 = sm.add_constant(X1)\n",
    "model1 = sm.OLS(y, X1).fit()\n",
    "\n",
    "# Model 2 \n",
    "X2 = df_model[['log_est', 'year', 'auction_house_dummy', 'online']]\n",
    "X2 = sm.add_constant(X2)\n",
    "model2 = sm.OLS(y, X2).fit()\n",
    "\n",
    "# Model 3 \n",
    "X3 = df_model[['year', 'auction_house_dummy', 'online', 'desc_len']]\n",
    "X3 = sm.add_constant(X3)\n",
    "model3 = sm.OLS(y, X3).fit()\n",
    "\n",
    "# Model 4\n",
    "X4 = df_model[['year', 'auction_house_dummy', 'online', 'desc_len'] + text_features]\n",
    "X4 = sm.add_constant(X4)\n",
    "model4 = sm.OLS(y, X4).fit()\n",
    "\n",
    "# Model 5\n",
    "X5 = df_model[text_features]\n",
    "X5 = sm.add_constant(X5)\n",
    "model5 = sm.OLS(y, X5).fit()\n",
    "\n",
    "# Model 6\n",
    "X6 = df_model[['log_est', 'year', 'auction_house_dummy', 'online', 'desc_len'] + text_features]\n",
    "X6 = sm.add_constant(X6)\n",
    "model6 = sm.OLS(y, X6).fit()"
   ]
  },
  {
   "cell_type": "code",
   "execution_count": null,
   "id": "8f6f015d",
   "metadata": {},
   "outputs": [],
   "source": [
    "df_model_pca = df3.dropna(subset=['log_realised_rmb', 'log_est', 'auction_house', 'year', 'online', 'desc_len'])"
   ]
  },
  {
   "cell_type": "code",
   "execution_count": null,
   "id": "aee2cd0d",
   "metadata": {},
   "outputs": [],
   "source": [
    "pca_features = [col for col in df_model_pca.columns if col.startswith('pca_')]\n",
    "y = df_model_pca['log_realised_rmb']"
   ]
  },
  {
   "cell_type": "code",
   "execution_count": null,
   "id": "62fe8235",
   "metadata": {},
   "outputs": [],
   "source": [
    "# Model 7\n",
    "X7 = df_model_pca[pca_features]\n",
    "X7 = sm.add_constant(X7)\n",
    "model7 = sm.OLS(y, X7).fit()\n",
    "\n",
    "# Model 8\n",
    "X8 = df_model_pca[['year', 'auction_house_dummy', 'online', 'desc_len'] + pca_features]\n",
    "X8 = sm.add_constant(X8)\n",
    "model8 = sm.OLS(y, X8).fit()"
   ]
  },
  {
   "cell_type": "code",
   "execution_count": null,
   "id": "feb50bcb",
   "metadata": {},
   "outputs": [],
   "source": [
    "df_model_themed = df2.dropna(subset=['log_realised_rmb', 'log_est', 'auction_house', 'year', 'online', 'desc_len'])"
   ]
  },
  {
   "cell_type": "code",
   "execution_count": null,
   "id": "620d3891",
   "metadata": {},
   "outputs": [],
   "source": [
    "theme_features = [col for col in df_model_themed.columns if col.startswith('has_')]\n",
    "y = df_model_themed['log_realised_rmb']"
   ]
  },
  {
   "cell_type": "code",
   "execution_count": null,
   "id": "3ec0ef00",
   "metadata": {},
   "outputs": [],
   "source": [
    "# Model 9\n",
    "X9 = df_model_themed[theme_features]\n",
    "X9 = sm.add_constant(X9)\n",
    "model9 = sm.OLS(y, X9).fit()\n",
    "\n",
    "# Model 10\n",
    "X10 = df_model_themed[['year', 'auction_house_dummy', 'online', 'desc_len'] + theme_features]\n",
    "X10 = sm.add_constant(X10)\n",
    "model10 = sm.OLS(y, X10).fit()"
   ]
  },
  {
   "cell_type": "code",
   "execution_count": null,
   "id": "85b8767d",
   "metadata": {},
   "outputs": [],
   "source": [
    "staged_table = summary_col(\n",
    "    results=[model1, model2, model3,model4, model5, model6, model7, model8, model9, model10],\n",
    "    model_names=['m1', 'm2', 'm3', 'm4', 'm5', 'm6', 'm7', 'm8','Model 9', 'Model 10'],\n",
    "    stars=True,\n",
    "    float_format='%0.3f',\n",
    "    info_dict={\n",
    "        'R-squared': lambda x: f\"{x.rsquared:.3f}\",\n",
    "        'N': lambda x: f\"{int(x.nobs)}\",\n",
    "        'df_model': lambda x: f\"{x.df_model:.0f}\",\n",
    "        'df_resid': lambda x: f\"{x.df_resid:.0f}\"\n",
    "    }\n",
    ")\n",
    "print(staged_table)"
   ]
  },
  {
   "cell_type": "markdown",
   "id": "26257096",
   "metadata": {},
   "source": [
    "LASSO"
   ]
  },
  {
   "cell_type": "code",
   "execution_count": null,
   "id": "9df59b2a",
   "metadata": {},
   "outputs": [],
   "source": [
    "import pandas as pd\n",
    "from sklearn.preprocessing import StandardScaler\n",
    "from sklearn.linear_model import LassoCV\n",
    "from sklearn.metrics import r2_score"
   ]
  },
  {
   "cell_type": "code",
   "execution_count": null,
   "id": "d441eab2",
   "metadata": {},
   "outputs": [],
   "source": [
    "lasso_coefs = {}"
   ]
  },
  {
   "cell_type": "code",
   "execution_count": null,
   "id": "3b77800f",
   "metadata": {},
   "outputs": [],
   "source": [
    "lasso_r2 = {}"
   ]
  },
  {
   "cell_type": "code",
   "execution_count": null,
   "id": "d96ee70d",
   "metadata": {},
   "outputs": [],
   "source": [
    "# Model 1\n",
    "X1 = df_model[['log_est']]\n",
    "y = df_model['log_realised_rmb']\n",
    "\n",
    "scaler1 = StandardScaler()\n",
    "X1_scaled = scaler1.fit_transform(X1)\n",
    "\n",
    "lasso1 = LassoCV(cv=5, random_state=42).fit(X1_scaled, y)\n",
    "\n",
    "optimal_alpha1 = lasso1.alpha_\n",
    "y_pred1 = lasso1.predict(X1_scaled)\n",
    "r2_1 = r2_score(y, y_pred1)\n",
    "\n",
    "print(f\"Model 1: Optimal alpha = {optimal_alpha1:.4f}, R² = {r2_1:.3f}\")\n",
    "\n",
    "coefs1 = pd.Series(lasso1.coef_, index=X1.columns)\n",
    "lasso_coefs['Model 1'] = coefs1\n",
    "lasso_r2['Model 1'] = r2_1"
   ]
  },
  {
   "cell_type": "code",
   "execution_count": null,
   "id": "b491e471",
   "metadata": {},
   "outputs": [],
   "source": [
    "# Model 2\n",
    "X2 = df_model[['log_est', 'year', 'auction_house_dummy', 'online']]\n",
    "y = df_model['log_realised_rmb']\n",
    "\n",
    "scaler2 = StandardScaler()\n",
    "X2_scaled = scaler2.fit_transform(X2)\n",
    "\n",
    "lasso2 = LassoCV(cv=5, random_state=42).fit(X2_scaled, y)\n",
    "\n",
    "optimal_alpha2 = lasso2.alpha_\n",
    "y_pred2 = lasso2.predict(X2_scaled)\n",
    "r2_2 = r2_score(y, y_pred2)\n",
    "\n",
    "print(f\"Model 2: Optimal alpha = {optimal_alpha2:.4f}, R² = {r2_2:.3f}\")\n",
    "\n",
    "coefs2 = pd.Series(lasso2.coef_, index=X2.columns)\n",
    "lasso_coefs['Model 2'] = coefs2\n",
    "lasso_r2['Model 2'] = r2_2"
   ]
  },
  {
   "cell_type": "code",
   "execution_count": null,
   "id": "9b9e8589",
   "metadata": {},
   "outputs": [],
   "source": [
    "# Model 3\n",
    "X3 = df_model[['year', 'auction_house_dummy', 'online', 'desc_len']]\n",
    "y = df_model['log_realised_rmb']\n",
    "\n",
    "scaler3 = StandardScaler()\n",
    "X3_scaled = scaler3.fit_transform(X3)\n",
    "\n",
    "lasso3 = LassoCV(cv=5, random_state=42).fit(X3_scaled, y)\n",
    "\n",
    "optimal_alpha3 = lasso3.alpha_\n",
    "y_pred3 = lasso3.predict(X3_scaled)\n",
    "r2_3 = r2_score(y, y_pred3)\n",
    "\n",
    "print(f\"Model 3: Optimal alpha = {optimal_alpha3:.4f}, R² = {r2_3:.3f}\")\n",
    "\n",
    "coefs3 = pd.Series(lasso3.coef_, index=X3.columns)\n",
    "lasso_coefs['Model 3'] = coefs3\n",
    "lasso_r2['Model 3'] = r2_3"
   ]
  },
  {
   "cell_type": "code",
   "execution_count": null,
   "id": "77464fd6",
   "metadata": {},
   "outputs": [],
   "source": [
    "# Model 4\n",
    "X4 = df_model[['year', 'auction_house_dummy', 'online', 'desc_len'] + text_features]\n",
    "y = df_model['log_realised_rmb']\n",
    "\n",
    "scaler4 = StandardScaler()\n",
    "X4_scaled = scaler4.fit_transform(X4)\n",
    "\n",
    "lasso4 = LassoCV(cv=5, random_state=42).fit(X4_scaled, y)\n",
    "\n",
    "optimal_alpha4 = lasso4.alpha_\n",
    "y_pred4 = lasso4.predict(X4_scaled)\n",
    "r2_4 = r2_score(y, y_pred4)\n",
    "\n",
    "print(f\"Model 4: Optimal alpha = {optimal_alpha4:.4f}, R² = {r2_4:.3f}\")\n",
    "\n",
    "coefs4 = pd.Series(lasso4.coef_, index=X4.columns)\n",
    "lasso_coefs['Model 3'] = coefs4\n",
    "lasso_r2['Model 4'] = r2_4"
   ]
  },
  {
   "cell_type": "code",
   "execution_count": null,
   "id": "d9b1c406",
   "metadata": {},
   "outputs": [],
   "source": [
    "# Model 5\n",
    "X5 = df_model[text_features]\n",
    "y = df_model['log_realised_rmb']\n",
    "\n",
    "scaler5 = StandardScaler()\n",
    "X5_scaled = scaler5.fit_transform(X5)\n",
    "\n",
    "lasso5 = LassoCV(cv=5, random_state=42).fit(X5_scaled, y)\n",
    "\n",
    "optimal_alpha5 = lasso5.alpha_\n",
    "y_pred5 = lasso5.predict(X5_scaled)\n",
    "r2_5 = r2_score(y, y_pred5)\n",
    "\n",
    "print(f\"Model 5: Optimal alpha = {optimal_alpha5:.4f}, R² = {r2_5:.3f}\")\n",
    "\n",
    "coefs5 = pd.Series(lasso5.coef_, index=X5.columns)\n",
    "lasso_coefs['Model 5'] = coefs5\n",
    "lasso_r2['Model 5'] = r2_5"
   ]
  },
  {
   "cell_type": "code",
   "execution_count": null,
   "id": "c14ba7ed",
   "metadata": {},
   "outputs": [],
   "source": [
    "# Model 6\n",
    "X6 = df_model[['log_est', 'year', 'auction_house_dummy', 'online', 'desc_len'] + text_features]\n",
    "y = df_model['log_realised_rmb']\n",
    "\n",
    "scaler6 = StandardScaler()\n",
    "X6_scaled = scaler6.fit_transform(X6)\n",
    "\n",
    "lasso6 = LassoCV(cv=5, random_state=42).fit(X6_scaled, y)\n",
    "\n",
    "optimal_alpha6 = lasso6.alpha_\n",
    "y_pred6 = lasso6.predict(X6_scaled)\n",
    "r2_6 = r2_score(y, y_pred6)\n",
    "\n",
    "print(f\"Model 6: Optimal alpha = {optimal_alpha6:.4f}, R² = {r2_6:.3f}\")\n",
    "\n",
    "coefs6 = pd.Series(lasso6.coef_, index=X6.columns)\n",
    "lasso_coefs['Model 6'] = coefs6\n",
    "lasso_r2['Model 6'] = r2_6"
   ]
  },
  {
   "cell_type": "code",
   "execution_count": null,
   "id": "f7eaaf5a",
   "metadata": {},
   "outputs": [],
   "source": [
    "# Model 7\n",
    "X7 = df_model_pca[pca_features]\n",
    "y = df_model_pca['log_realised_rmb']\n",
    "\n",
    "scaler7 = StandardScaler()\n",
    "X7_scaled = scaler7.fit_transform(X7)\n",
    "\n",
    "lasso7 = LassoCV(cv=5, random_state=42).fit(X7_scaled, y)\n",
    "\n",
    "optimal_alpha7 = lasso7.alpha_\n",
    "y_pred7 = lasso7.predict(X7_scaled)\n",
    "r2_7 = r2_score(y, y_pred7)\n",
    "\n",
    "print(f\"Model 7: Optimal alpha = {optimal_alpha7:.4f}, R² = {r2_7:.3f}\")\n",
    "\n",
    "coefs7 = pd.Series(lasso7.coef_, index=X7.columns)\n",
    "lasso_coefs['Model 7'] = coefs7\n",
    "lasso_r2['Model 7'] = r2_7"
   ]
  },
  {
   "cell_type": "code",
   "execution_count": null,
   "id": "dc04fea8",
   "metadata": {},
   "outputs": [],
   "source": [
    "# Model 8\n",
    "X8 = df_model_pca[['year', 'auction_house_dummy', 'online', 'desc_len'] + pca_features]\n",
    "y = df_model_pca['log_realised_rmb']\n",
    "\n",
    "scaler8 = StandardScaler()\n",
    "X8_scaled = scaler8.fit_transform(X8)\n",
    "\n",
    "lasso8 = LassoCV(cv=5, random_state=42).fit(X8_scaled, y)\n",
    "\n",
    "optimal_alpha8 = lasso8.alpha_\n",
    "y_pred8 = lasso8.predict(X8_scaled)\n",
    "r2_8 = r2_score(y, y_pred8)\n",
    "\n",
    "print(f\"Model 8: Optimal alpha = {optimal_alpha8:.4f}, R² = {r2_8:.3f}\")\n",
    "\n",
    "coefs8 = pd.Series(lasso8.coef_, index=X8.columns)\n",
    "lasso_coefs['Model 8'] = coefs8\n",
    "lasso_r2['Model 8'] = r2_8\n"
   ]
  },
  {
   "cell_type": "code",
   "execution_count": null,
   "id": "dc90f7c1",
   "metadata": {},
   "outputs": [],
   "source": [
    "# Model 9\n",
    "X9 = df_model_themed[['year', 'auction_house_dummy', 'online', 'desc_len'] + theme_features]\n",
    "y = df_model_themed['log_realised_rmb']\n",
    "\n",
    "scaler9 = StandardScaler()\n",
    "X9_scaled = scaler9.fit_transform(X10)\n",
    "\n",
    "lasso9 = LassoCV(cv=5, random_state=42).fit(X9_scaled, y)\n",
    "\n",
    "optimal_alpha9 = lasso9.alpha_\n",
    "y_pred9 = lasso9.predict(X9_scaled)\n",
    "r2_9 = r2_score(y, y_pred9)\n",
    "\n",
    "print(f\"Model 9: Optimal alpha = {optimal_alpha9:.4f}, R² = {r2_9:.3f}\")\n",
    "\n",
    "coefs10 = pd.Series(lasso10.coef_, index=X10.columns)\n",
    "lasso_coefs['Model 9'] = coefs10\n",
    "lasso_r2['Model 9'] = r2_10"
   ]
  },
  {
   "cell_type": "code",
   "execution_count": null,
   "id": "2587eff6",
   "metadata": {},
   "outputs": [],
   "source": [
    "# Model 10\n",
    "X10 = df_model_themed[theme_features]\n",
    "y = df_model_themed['log_realised_rmb']\n",
    "\n",
    "scaler10 = StandardScaler()\n",
    "X10_scaled = scaler10.fit_transform(X11)\n",
    "\n",
    "lasso10 = LassoCV(cv=5, random_state=42).fit(X11_scaled, y)\n",
    "\n",
    "optimal_alpha10 = lasso11.alpha_\n",
    "y_pred10 = lasso11.predict(X10_scaled)\n",
    "r2_10 = r2_score(y, y_pred10)\n",
    "\n",
    "print(f\"Model 11: Optimal alpha = {optimal_alpha10:.4f}, R² = {r2_10:.3f}\")\n",
    "\n",
    "coefs10 = pd.Series(lasso11.coef_, index=X10.columns)\n",
    "lasso_coefs['Model 10'] = coefs10\n",
    "lasso_r2['Model 10'] = r2_10"
   ]
  },
  {
   "cell_type": "code",
   "execution_count": null,
   "id": "d982c403",
   "metadata": {},
   "outputs": [],
   "source": [
    "lasso_df = pd.DataFrame(lasso_coefs)\n",
    "lasso_df = lasso_df.round(3)\n",
    "r2_series = pd.Series(lasso_r2, name='R²')\n",
    "lasso_df_with_r2 = pd.concat([r2_series.to_frame().T, lasso_df])"
   ]
  },
  {
   "cell_type": "code",
   "execution_count": null,
   "id": "408b7cd4",
   "metadata": {},
   "outputs": [],
   "source": [
    "lasso_df_with_r2"
   ]
  },
  {
   "cell_type": "code",
   "execution_count": null,
   "id": "2c2f599d",
   "metadata": {},
   "outputs": [],
   "source": [
    "gboost_importances = {}\n",
    "gboost_r2 = {}"
   ]
  },
  {
   "cell_type": "code",
   "execution_count": null,
   "id": "fed9ab94",
   "metadata": {},
   "outputs": [],
   "source": [
    "# Model 1\n",
    "X1 = df_model[['log_est']]\n",
    "y = df_model['log_realised_rmb']\n",
    "\n",
    "scaler1 = StandardScaler()\n",
    "X1_scaled = scaler1.fit_transform(X1)\n",
    "\n",
    "gboost1 = GradientBoostingRegressor(n_estimators=100, learning_rate=0.1, max_depth=3, random_state=42)\n",
    "gboost1.fit(X1_scaled, y)\n",
    "\n",
    "y_pred1 = gboost1.predict(X1_scaled)\n",
    "r2_1 = r2_score(y, y_pred1)\n",
    "\n",
    "print(f\"Gradient Boosting Model 1: R² = {r2_1:.3f}\")\n",
    "\n",
    "importances1 = pd.Series(gboost1.feature_importances_, index=X1.columns)\n",
    "gboost_importances['Model 1'] = importances1\n",
    "gboost_r2['Model 1'] = r2_1"
   ]
  },
  {
   "cell_type": "code",
   "execution_count": null,
   "id": "21f3c1c6",
   "metadata": {},
   "outputs": [],
   "source": [
    "# Model 2\n",
    "X2 = df_model[['log_est', 'year', 'auction_house_dummy', 'online']]\n",
    "y = df_model['log_realised_rmb']\n",
    "\n",
    "scaler2 = StandardScaler()\n",
    "X2_scaled = scaler2.fit_transform(X2)\n",
    "\n",
    "gboost2 = GradientBoostingRegressor(n_estimators=100, learning_rate=0.1, max_depth=3, random_state=42)\n",
    "gboost2.fit(X2_scaled, y)\n",
    "\n",
    "y_pred2 = gboost2.predict(X2_scaled)\n",
    "r2_2 = r2_score(y, y_pred2)\n",
    "\n",
    "print(f\"Gradient Boosting Model 2: R² = {r2_2:.3f}\")\n",
    "\n",
    "importances2 = pd.Series(gboost2.feature_importances_, index=X2.columns)\n",
    "gboost_importances['Model 2'] = importances2\n",
    "gboost_r2['Model 2'] = r2_2"
   ]
  },
  {
   "cell_type": "code",
   "execution_count": null,
   "id": "0416de0a",
   "metadata": {},
   "outputs": [],
   "source": [
    "# Model 3\n",
    "X3 = df_model[['year', 'auction_house_dummy', 'online', 'desc_len']]\n",
    "y = df_model['log_realised_rmb']\n",
    "\n",
    "scaler3 = StandardScaler()\n",
    "X3_scaled = scaler3.fit_transform(X3)\n",
    "\n",
    "gboost3 = GradientBoostingRegressor(n_estimators=100, learning_rate=0.1, max_depth=3, random_state=42)\n",
    "gboost3.fit(X3_scaled, y)\n",
    "\n",
    "y_pred3 = gboost3.predict(X3_scaled)\n",
    "r2_3 = r2_score(y, y_pred3)\n",
    "\n",
    "print(f\"Gradient Boosting Model 3: R² = {r2_3:.3f}\")\n",
    "\n",
    "importances3 = pd.Series(gboost3.feature_importances_, index=X3.columns)\n",
    "gboost_importances['Model 3'] = importances3\n",
    "gboost_r2['Model 3'] = r2_3"
   ]
  },
  {
   "cell_type": "code",
   "execution_count": null,
   "id": "5b53c2aa",
   "metadata": {},
   "outputs": [],
   "source": [
    "# Model 4\n",
    "X4 = df_model[['year', 'auction_house_dummy', 'online', 'desc_len'] + text_features]\n",
    "y = df_model['log_realised_rmb']\n",
    "\n",
    "scaler4 = StandardScaler()\n",
    "X4_scaled = scaler4.fit_transform(X4)\n",
    "\n",
    "gboost4 = GradientBoostingRegressor(n_estimators=100, learning_rate=0.1, max_depth=3, random_state=42)\n",
    "gboost4.fit(X4_scaled, y)\n",
    "\n",
    "y_pred4 = gboost4.predict(X4_scaled)\n",
    "r2_4 = r2_score(y, y_pred4)\n",
    "\n",
    "print(f\"Gradient Boosting Model 4: R² = {r2_4:.3f}\")\n",
    "\n",
    "importances4 = pd.Series(gboost4.feature_importances_, index=X4.columns)\n",
    "gboost_importances['Model 4'] = importances4\n",
    "gboost_r2['Model 4'] = r2_4"
   ]
  },
  {
   "cell_type": "code",
   "execution_count": null,
   "id": "1744d8a4",
   "metadata": {},
   "outputs": [],
   "source": [
    "# Model 5\n",
    "X5 = df_model[text_features]\n",
    "y = df_model['log_realised_rmb']\n",
    "\n",
    "scaler5 = StandardScaler()\n",
    "X5_scaled = scaler5.fit_transform(X5)\n",
    "\n",
    "gboost5 = GradientBoostingRegressor(n_estimators=100, learning_rate=0.1, max_depth=3, random_state=42)\n",
    "gboost5.fit(X5_scaled, y)\n",
    "\n",
    "y_pred5 = gboost5.predict(X5_scaled)\n",
    "r2_5 = r2_score(y, y_pred5)\n",
    "\n",
    "print(f\"Gradient Boosting Model 5: R² = {r2_5:.3f}\")\n",
    "\n",
    "importances5 = pd.Series(gboost5.feature_importances_, index=X5.columns)\n",
    "gboost_importances['Model 5'] = importances5\n",
    "gboost_r2['Model 5'] = r2_5"
   ]
  },
  {
   "cell_type": "code",
   "execution_count": null,
   "id": "cf9a797a",
   "metadata": {},
   "outputs": [],
   "source": [
    "# Model 6\n",
    "X6 = df_model[['log_est', 'year', 'auction_house_dummy', 'online', 'desc_len'] + text_features]\n",
    "y = df_model['log_realised_rmb']\n",
    "\n",
    "scaler6 = StandardScaler()\n",
    "X6_scaled = scaler6.fit_transform(X6)\n",
    "\n",
    "gboost6 = GradientBoostingRegressor(n_estimators=100, learning_rate=0.1, max_depth=3, random_state=42)\n",
    "gboost6.fit(X6_scaled, y)\n",
    "\n",
    "y_pred6 = gboost6.predict(X6_scaled)\n",
    "r2_6 = r2_score(y, y_pred6)\n",
    "\n",
    "print(f\"Gradient Boosting Model 6: R² = {r2_6:.3f}\")\n",
    "\n",
    "importances6 = pd.Series(gboost6.feature_importances_, index=X6.columns)\n",
    "gboost_importances['Model 6'] = importances6\n",
    "gboost_r2['Model 6'] = r2_6\n"
   ]
  },
  {
   "cell_type": "code",
   "execution_count": null,
   "id": "68176112",
   "metadata": {},
   "outputs": [],
   "source": [
    "# Model 7\n",
    "X7 = df_model_pca[pca_features]\n",
    "y = df_model_pca['log_realised_rmb']\n",
    "\n",
    "scaler7 = StandardScaler()\n",
    "X7_scaled = scaler7.fit_transform(X6)\n",
    "\n",
    "gboost7 = GradientBoostingRegressor(n_estimators=100, learning_rate=0.1, max_depth=3, random_state=42)\n",
    "gboost7.fit(X7_scaled, y)\n",
    "\n",
    "y_pred7 = gboost6.predict(X7_scaled)\n",
    "r2_7 = r2_score(y, y_pred7)\n",
    "\n",
    "print(f\"Gradient Boosting Model 7: R² = {r2_7:.3f}\")\n",
    "\n",
    "importances7 = pd.Series(gboost7.feature_importances_, index=X7.columns)\n",
    "gboost_importances['Model 7'] = importances7\n",
    "gboost_r2['Model 7'] = r2_6\n"
   ]
  },
  {
   "cell_type": "code",
   "execution_count": null,
   "id": "b900e333",
   "metadata": {},
   "outputs": [],
   "source": [
    "# Model 8\n",
    "X8 = df_model_pca[['year', 'auction_house_dummy', 'online', 'desc_len'] + pca_features]\n",
    "y = df_model_pca['log_realised_rmb']\n",
    "\n",
    "scaler8 = StandardScaler()\n",
    "X8_scaled = scaler8.fit_transform(X8)\n",
    "\n",
    "gboost8 = GradientBoostingRegressor(n_estimators=100, learning_rate=0.1, max_depth=3, random_state=42)\n",
    "gboost8.fit(X8_scaled, y)\n",
    "\n",
    "y_pred8 = gboost8.predict(X8_scaled)\n",
    "r2_8 = r2_score(y, y_pred8)\n",
    "\n",
    "print(f\"Gradient Boosting Model 8: R² = {r2_8:.3f}\")\n",
    "\n",
    "importances8 = pd.Series(gboost8.feature_importances_, index=X8.columns)\n",
    "gboost_importances['Model 8'] = importances8\n",
    "gboost_r2['Model 8'] = r2_8"
   ]
  },
  {
   "cell_type": "code",
   "execution_count": null,
   "id": "5a3666e6",
   "metadata": {},
   "outputs": [],
   "source": [
    "# Model 9\n",
    "X9 = df_model_themed[theme_features]\n",
    "y = df_model_themed['log_realised_rmb']\n",
    "\n",
    "scaler9 = StandardScaler()\n",
    "X9_scaled = scaler9.fit_transform(X9)\n",
    "\n",
    "gboost9 = GradientBoostingRegressor(n_estimators=100, learning_rate=0.1, max_depth=3, random_state=42)\n",
    "gboost9.fit(X9_scaled, y)\n",
    "\n",
    "y_pred9 = gboost9.predict(X9_scaled)\n",
    "r2_9 = r2_score(y, y_pred9)\n",
    "\n",
    "print(f\"Gradient Boosting Model 9: R² = {r2_9:.3f}\")\n",
    "\n",
    "importances9 = pd.Series(gboost9.feature_importances_, index=X9.columns)\n",
    "gboost_importances['Model 9'] = importances9\n",
    "gboost_r2['Model 9'] = r2_9"
   ]
  },
  {
   "cell_type": "code",
   "execution_count": null,
   "id": "535a73ef",
   "metadata": {},
   "outputs": [],
   "source": [
    "# Model 10\n",
    "X10 = df_model_themed[['year', 'auction_house_dummy', 'online', 'desc_len'] + theme_features]\n",
    "y = df_model_themed['log_realised_rmb']\n",
    "\n",
    "scaler10 = StandardScaler()\n",
    "X10_scaled = scaler10.fit_transform(X9)\n",
    "\n",
    "gboost10 = GradientBoostingRegressor(n_estimators=100, learning_rate=0.1, max_depth=3, random_state=42)\n",
    "gboost10.fit(X10_scaled, y)\n",
    "\n",
    "y_pred10 = gboost10.predict(X10_scaled)\n",
    "r2_10 = r2_score(y, y_pred10)\n",
    "\n",
    "print(f\"Gradient Boosting Model 10: R² = {r2_10:.3f}\")\n",
    "\n",
    "importances10 = pd.Series(gboost10.feature_importances_, index=X10.columns)\n",
    "gboost_importances['Model 10'] = importances9\n",
    "gboost_r2['Model 10'] = r2_9"
   ]
  },
  {
   "cell_type": "code",
   "execution_count": null,
   "id": "286dff16",
   "metadata": {},
   "outputs": [],
   "source": [
    "gboost_df = pd.DataFrame(gboost_importances)\n",
    "gboost_df = gboost_df.round(3)\n",
    "r2_series_gboost = pd.Series(gboost_r2, name='R²')\n",
    "gboost_df_with_r2 = pd.concat([r2_series_gboost.to_frame().T, gboost_df])"
   ]
  },
  {
   "cell_type": "code",
   "execution_count": null,
   "id": "4d569876",
   "metadata": {},
   "outputs": [],
   "source": [
    "gboost_df_with_r2"
   ]
  },
  {
   "cell_type": "markdown",
   "id": "cb17c7f0",
   "metadata": {},
   "source": [
    "Price to Estimate Ratio - Model 11"
   ]
  },
  {
   "cell_type": "code",
   "execution_count": null,
   "id": "5c2725df",
   "metadata": {},
   "outputs": [],
   "source": [
    "df['log_ratio_realised_to_estimate'] = np.log(df['realised_rmb_adj'] / df['est_max_adj'])"
   ]
  },
  {
   "cell_type": "code",
   "execution_count": null,
   "id": "a4fb635c",
   "metadata": {},
   "outputs": [],
   "source": [
    "X = df[word_cols]\n",
    "y = df['log_ratio_realised_to_estimate']\n",
    "\n",
    "X_train, X_test, y_train, y_test = train_test_split(X, y, random_state=42)"
   ]
  },
  {
   "cell_type": "code",
   "execution_count": null,
   "id": "d8d8685a",
   "metadata": {},
   "outputs": [],
   "source": [
    "X_train_sm = sm.add_constant(X_train)\n",
    "model11 = sm.OLS(y_train, X_train_sm).fit()\n",
    "\n",
    "staged_table = summary_col(\n",
    "    results=[model1],\n",
    "    model_names=['Model 11'],\n",
    "    stars=True,\n",
    "    float_format='%0.3f',\n",
    "    info_dict={\n",
    "        'R-squared': lambda x: f\"{x.rsquared:.3f}\",\n",
    "        'N': lambda x: f\"{int(x.nobs)}\",\n",
    "        'df_model': lambda x: f\"{x.df_model:.0f}\",\n",
    "        'df_resid': lambda x: f\"{x.df_resid:.0f}\"\n",
    "    }\n",
    ")\n",
    "\n",
    "staged_table"
   ]
  },
  {
   "cell_type": "code",
   "execution_count": null,
   "id": "24992580",
   "metadata": {},
   "outputs": [],
   "source": [
    "lasso_coefs = pd.Series(lasso.coef_, index=X.columns)\n",
    "lasso_r2 = r2_score(y_test, lasso.predict(X_test))\n",
    "\n",
    "lasso_table = pd.DataFrame({\n",
    "    'coef': lasso_coefs.round(3),\n",
    "    'R-squared': [lasso_r2.round(3)] + [''] * (len(lasso_coefs) - 1)\n",
    "})\n",
    "\n",
    "lasso_table"
   ]
  },
  {
   "cell_type": "code",
   "execution_count": null,
   "id": "8f6382ac",
   "metadata": {},
   "outputs": [],
   "source": [
    "gbr_importances = pd.Series(gbr.feature_importances_, index=X.columns)\n",
    "gbr_r2 = r2_score(y_test, gbr.predict(X_test))\n",
    "\n",
    "gbr_table = pd.DataFrame({\n",
    "    'importance': gbr_importances.round(3),\n",
    "    'R-squared': [gbr_r2.round(3)] + [''] * (len(gbr_importances) - 1)\n",
    "})\n",
    "\n",
    "gbr_table"
   ]
  }
 ],
 "metadata": {
  "kernelspec": {
   "display_name": "Python 3 (ipykernel)",
   "language": "python",
   "name": "python3"
  },
  "language_info": {
   "codemirror_mode": {
    "name": "ipython",
    "version": 3
   },
   "file_extension": ".py",
   "mimetype": "text/x-python",
   "name": "python",
   "nbconvert_exporter": "python",
   "pygments_lexer": "ipython3",
   "version": "3.9.7"
  }
 },
 "nbformat": 4,
 "nbformat_minor": 5
}
